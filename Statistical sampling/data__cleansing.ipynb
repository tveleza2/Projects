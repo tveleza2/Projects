{
 "cells": [
  {
   "cell_type": "code",
   "execution_count": 1,
   "metadata": {},
   "outputs": [],
   "source": [
    "import numpy as np\n",
    "import pandas as pd\n",
    "\n",
    "\n",
    "def check_vals_in_arr(data, ref):\n",
    "    cond = [value in ref for value in data]\n",
    "    return cond\n",
    "\n",
    "def approx_cords(df,key,approx):\n",
    "    return [str(round(cor,approx)) for cor in df[key]]\n",
    "\n",
    "def notArray(arr):\n",
    "    return ~ np.array(arr)\n",
    "\n",
    "def removeSampleValues(df,sample):\n",
    "    condiX = check_vals_in_arr(df['Coordenada X'],sample['Coordenada X'].values)\n",
    "    condiY = check_vals_in_arr(df['Coordenada Y'],sample['Coordenada Y'].values)\n",
    "    condiDir = check_vals_in_arr(df['Unnamed: 11'],sample['Unnamed: 11'].values)\n",
    "    condi = notArray(condiX and condiY and condiDir)\n",
    "    return df[condi]\n",
    "    "
   ]
  },
  {
   "cell_type": "markdown",
   "metadata": {},
   "source": [
    "## __Estimation of the population__"
   ]
  },
  {
   "cell_type": "code",
   "execution_count": null,
   "metadata": {},
   "outputs": [],
   "source": [
    "totalN = 22324\n",
    "p2 = 10011\n",
    "p1 = 4527\n",
    "dt = 4\n",
    "k = np.log()"
   ]
  },
  {
   "cell_type": "markdown",
   "metadata": {},
   "source": [
    "## __Caculation of the sample size__"
   ]
  },
  {
   "cell_type": "markdown",
   "metadata": {},
   "source": [
    "### Urban Residential Sample sizes\n"
   ]
  },
  {
   "cell_type": "code",
   "execution_count": 34,
   "metadata": {},
   "outputs": [
    {
     "name": "stdout",
     "output_type": "stream",
     "text": [
      "94\n"
     ]
    },
    {
     "data": {
      "text/plain": [
       "[2, 35, 56, 2]"
      ]
     },
     "execution_count": 34,
     "metadata": {},
     "output_type": "execute_result"
    }
   ],
   "source": [
    "# weights = [0.02,0.37,0.59,0.02]\n",
    "weights = [0.02,0.37,0.59,0.02]\n",
    "sdv = 0.2 # kg/dia\n",
    "mean = 0.53 # kg/dia\n",
    "N = 15900\n",
    "Z = 1.96\n",
    "E = 0.08 * mean\n",
    "sample_size = int(1.1*(Z**2 * N * sdv**2)/((N-1) * E**2 + (Z**2 * sdv**2))+1)\n",
    "sample_sizes = [int(weights[i]*sample_size+1) for i in range(len(weights))]\n",
    "print(sample_size)\n",
    "sample_sizes"
   ]
  },
  {
   "cell_type": "markdown",
   "metadata": {},
   "source": [
    "### Rural Residential Sample sizes\n"
   ]
  },
  {
   "cell_type": "code",
   "execution_count": 35,
   "metadata": {},
   "outputs": [
    {
     "name": "stdout",
     "output_type": "stream",
     "text": [
      "116\n"
     ]
    },
    {
     "data": {
      "text/plain": [
       "[10, 72, 26, 6, 3, 2]"
      ]
     },
     "execution_count": 35,
     "metadata": {},
     "output_type": "execute_result"
    }
   ],
   "source": [
    "weights = [0.08,0.62,0.22,0.05,0.02,0.01]\n",
    "sdv = 0.2 # kg/dia\n",
    "mean = 0.4737 # kg/dia\n",
    "N = 5391\n",
    "Z = 1.96\n",
    "E = 0.08 * mean\n",
    "sample_size = int(1.1*(Z**2 * N * sdv**2)/((N-1) * E**2 + (Z**2 * sdv**2))+1)\n",
    "sample_sizes = [int(weights[i]*sample_size+1) for i in range(len(weights))]\n",
    "print(sample_size)\n",
    "sample_sizes"
   ]
  },
  {
   "cell_type": "markdown",
   "metadata": {},
   "source": [
    "### Non Residential Sample sizes\n"
   ]
  },
  {
   "cell_type": "code",
   "execution_count": 36,
   "metadata": {},
   "outputs": [
    {
     "name": "stdout",
     "output_type": "stream",
     "text": [
      "112\n"
     ]
    }
   ],
   "source": [
    "sdv = 0.2 # kg/dia\n",
    "mean = 0.4737 # kg/dia\n",
    "N = 1886\n",
    "Z = 1.96\n",
    "E = 0.08 * mean\n",
    "sample_size = int(1.1*(Z**2 * N * sdv**2)/((N-1) * E**2 + (Z**2 * sdv**2))+1)\n",
    "print(sample_size)\n",
    "# sample_sizes"
   ]
  },
  {
   "cell_type": "markdown",
   "metadata": {},
   "source": [
    "# __Urban Sample__"
   ]
  },
  {
   "cell_type": "code",
   "execution_count": null,
   "metadata": {},
   "outputs": [],
   "source": [
    "file_path = r'db_guarne.xlsx'\n",
    "urban_df = pd.read_excel(r'rural_raw.xlsx')\n",
    "urban_df = urban_df[urban_df['Uso'] == 'Residencial']\n",
    "urban_df = urban_df.drop(columns=['FID'])\n",
    "urban_df = urban_df.rename(columns={'Coordenada':'Coordenada X','Coordena_1':'Coordenada Y'})"
   ]
  },
  {
   "cell_type": "markdown",
   "metadata": {},
   "source": [
    "### Filtering the data to ensure that no spatially redundant data is present in the dataset"
   ]
  },
  {
   "cell_type": "code",
   "execution_count": null,
   "metadata": {},
   "outputs": [],
   "source": [
    "approx = 8\n",
    "urban_df['Coordenada X'] = approx_cords(urban_df, 'Coordenada X', approx)\n",
    "urban_df['Coordenada Y'] = approx_cords(urban_df, 'Coordenada Y', approx)\n",
    "rural_df = urban_df.drop_duplicates(subset=['Coordenada X', 'Coordenada Y'])"
   ]
  },
  {
   "cell_type": "markdown",
   "metadata": {},
   "source": [
    "### Choosing the sample using the filtered data"
   ]
  },
  {
   "cell_type": "code",
   "execution_count": null,
   "metadata": {},
   "outputs": [],
   "source": [
    "keys = ['codeid'] + [i for i in urban_df.keys()] \n",
    "urban_sample = pd.DataFrame(columns=keys)\n",
    "sizes = [10,73,26,6,2,2]\n",
    "for stratum in range(1,7):\n",
    "    codeid = []\n",
    "    stratified_df = urban_df[urban_df['Estrato'] == stratum]\n",
    "    sample_size = sizes[stratum-1]\n",
    "    sample = stratified_df.sample(n=sample_size)\n",
    "    for cod in range(sample_size):\n",
    "        codeid.append('RR'+str(stratum*1000 + cod + 1))\n",
    "    sample.insert(1,'codeid',codeid,False)\n",
    "    urban_sample = pd.concat([urban_sample,sample])\n",
    "urban_sample['Coordenada X'] =  [float(i) for i in urban_sample['Coordenada X'].values]\n",
    "urban_sample['Coordenada Y'] =  [float(i) for i in urban_sample['Coordenada Y'].values]"
   ]
  },
  {
   "cell_type": "markdown",
   "metadata": {},
   "source": [
    "### Writing the sample file to an excel"
   ]
  },
  {
   "cell_type": "code",
   "execution_count": null,
   "metadata": {},
   "outputs": [],
   "source": [
    "# urban_sample.to_excel(r'urban_sample.xlsx',index=False)"
   ]
  },
  {
   "cell_type": "markdown",
   "metadata": {},
   "source": [
    "# __Rural Sample__"
   ]
  },
  {
   "cell_type": "code",
   "execution_count": null,
   "metadata": {},
   "outputs": [],
   "source": [
    "file_path = r'db_guarne.xlsx'\n",
    "rural_df = pd.read_excel(r'rural_raw.xlsx')\n",
    "rural_df = rural_df[rural_df['Uso'] == 'Residencial']\n",
    "rural_df = rural_df.drop(columns=['FID'])\n",
    "rural_df = rural_df.rename(columns={'Coordenada':'Coordenada X','Coordena_1':'Coordenada Y'})"
   ]
  },
  {
   "cell_type": "markdown",
   "metadata": {},
   "source": [
    "### Filtering the data to ensure that no spatially redundant data is present in the dataset"
   ]
  },
  {
   "cell_type": "code",
   "execution_count": null,
   "metadata": {},
   "outputs": [],
   "source": [
    "approx = 8\n",
    "rural_df['Coordenada X'] = approx_cords(rural_df, 'Coordenada X', approx)\n",
    "rural_df['Coordenada Y'] = approx_cords(rural_df, 'Coordenada Y', approx)\n",
    "rural_df = rural_df.drop_duplicates(subset=['Coordenada X', 'Coordenada Y'])"
   ]
  },
  {
   "cell_type": "markdown",
   "metadata": {},
   "source": [
    "### Choosing the sample using the filtered data"
   ]
  },
  {
   "cell_type": "code",
   "execution_count": null,
   "metadata": {},
   "outputs": [],
   "source": [
    "keys = ['codeid'] + [i for i in rural_df.keys()] \n",
    "rural_sample = pd.DataFrame(columns=keys)\n",
    "sizes = [10,73,26,6,2,2]\n",
    "for stratum in range(1,7):\n",
    "    codeid = []\n",
    "    stratified_df = rural_df[rural_df['Estrato'] == stratum]\n",
    "    sample_size = sizes[stratum-1]\n",
    "    sample = stratified_df.sample(n=sample_size)\n",
    "    for cod in range(sample_size):\n",
    "        codeid.append('RR'+str(stratum*1000 + cod + 1))\n",
    "    sample.insert(1,'codeid',codeid,False)\n",
    "    rural_sample = pd.concat([rural_sample,sample])\n",
    "rural_sample['Coordenada X'] =  [float(i) for i in rural_sample['Coordenada X'].values]\n",
    "rural_sample['Coordenada Y'] =  [float(i) for i in rural_sample['Coordenada Y'].values]"
   ]
  },
  {
   "cell_type": "markdown",
   "metadata": {},
   "source": [
    "### Writing the sample file to an excel"
   ]
  },
  {
   "cell_type": "code",
   "execution_count": null,
   "metadata": {},
   "outputs": [],
   "source": [
    "# rural_sample.to_excel(r'rural_sample.xlsx',index=False)"
   ]
  },
  {
   "cell_type": "markdown",
   "metadata": {},
   "source": [
    "## **Non Residential Sample**\n",
    "In the next cell, the dataframe is filtered to choose only the values which correspond to the uses *Industrial, Comercial* y *Oficial*."
   ]
  },
  {
   "cell_type": "code",
   "execution_count": 139,
   "metadata": {},
   "outputs": [],
   "source": [
    "df = pd.read_excel('db_raw_guarne.xlsx')\n",
    "non_residential_sample_size = 140\n",
    "\n",
    "# Conditions to filter the dataframe\n",
    "a = df['Uso'] == 'Industrial'\n",
    "b = df['Uso'] == 'Comercial'\n",
    "c = df['Uso'] == 'Oficial'\n",
    "\n",
    "nr_df = df[a|b|c]\n",
    "nr_df\n",
    "\n",
    "nr_sample = nr_df.sample(n=non_residential_sample_size,replace=False)\n",
    "# nr_sample.to_excel(r'Muestra no residencial guarne.xlsx',index=False)"
   ]
  }
 ],
 "metadata": {
  "kernelspec": {
   "display_name": "mac",
   "language": "python",
   "name": "python3"
  },
  "language_info": {
   "codemirror_mode": {
    "name": "ipython",
    "version": 3
   },
   "file_extension": ".py",
   "mimetype": "text/x-python",
   "name": "python",
   "nbconvert_exporter": "python",
   "pygments_lexer": "ipython3",
   "version": "3.12.4"
  }
 },
 "nbformat": 4,
 "nbformat_minor": 2
}
