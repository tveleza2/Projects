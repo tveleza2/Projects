{
 "cells": [
  {
   "cell_type": "code",
   "execution_count": 1,
   "metadata": {},
   "outputs": [],
   "source": [
    "import numpy as np\n",
    "import pandas as pd\n",
    "\n",
    "\n",
    "def check_vals_in_arr(data, ref):\n",
    "    cond = [value in ref for value in data]\n",
    "    return cond\n",
    "\n",
    "def approx_cords(df,key,approx):\n",
    "    return [str(round(cor,approx)) for cor in df[key]]\n",
    "\n",
    "def notArray(arr):\n",
    "    return ~ np.array(arr)\n",
    "\n",
    "def removeSampleValues(df,sample):\n",
    "    condiX = check_vals_in_arr(df['Coordenada X'],sample['Coordenada X'].values)\n",
    "    condiY = check_vals_in_arr(df['Coordenada Y'],sample['Coordenada Y'].values)\n",
    "    condiDir = check_vals_in_arr(df['Unnamed: 11'],sample['Unnamed: 11'].values)\n",
    "    condi = notArray(condiX and condiY and condiDir)\n",
    "    return df[condi]\n",
    "    "
   ]
  },
  {
   "cell_type": "markdown",
   "metadata": {},
   "source": [
    "## Caculation of the sample size"
   ]
  },
  {
   "cell_type": "code",
   "execution_count": 39,
   "metadata": {},
   "outputs": [
    {
     "data": {
      "text/plain": [
       "116.97817059179923"
      ]
     },
     "execution_count": 39,
     "metadata": {},
     "output_type": "execute_result"
    }
   ],
   "source": [
    "sdv = 0.36 # kg/dia\n",
    "mean = 0.79 # kg/dia\n",
    "N = 1886\n",
    "Z = 1.96\n",
    "E = 0.08 * mean\n",
    "(Z**2 * N * sdv**2)/((N-1)* E**2 + (Z**2 * sdv**2))\n"
   ]
  },
  {
   "cell_type": "markdown",
   "metadata": {},
   "source": [
    "## **Dataset processing**\n",
    "This dataset is not available publicly"
   ]
  },
  {
   "cell_type": "code",
   "execution_count": 2,
   "metadata": {},
   "outputs": [],
   "source": [
    "df = pd.read_excel(r'db_carmen_raw.xlsx',sheet_name='Energía')"
   ]
  },
  {
   "cell_type": "markdown",
   "metadata": {},
   "source": [
    "### Which usages are available in the dataset?"
   ]
  },
  {
   "cell_type": "code",
   "execution_count": 3,
   "metadata": {},
   "outputs": [
    {
     "data": {
      "text/plain": [
       "0        Alumbrado Público\n",
       "1                  excento\n",
       "5                       11\n",
       "1442                     1\n",
       "2471                     2\n",
       "11059                    3\n",
       "20432                    4\n",
       "20866                    5\n",
       "20984                    6\n",
       "21034                   12\n",
       "21236                   13\n",
       "21323          Provisional\n",
       "Name: Estrato, dtype: object"
      ]
     },
     "execution_count": 3,
     "metadata": {},
     "output_type": "execute_result"
    }
   ],
   "source": [
    "usage = df['Estrato'].drop_duplicates()\n",
    "usage"
   ]
  },
  {
   "cell_type": "markdown",
   "metadata": {},
   "source": [
    "## Urban Sample\n",
    "In the next cell, the dataframe is filtered to choose only the values which correspond to the urban zone."
   ]
  },
  {
   "cell_type": "code",
   "execution_count": 4,
   "metadata": {},
   "outputs": [],
   "source": [
    "urban_sample_size = [2,50,79,2,2,0]\n",
    "urban_df = df[df['Zona'] == 'Urbana']"
   ]
  },
  {
   "cell_type": "markdown",
   "metadata": {},
   "source": [
    "### Sample extraction\n",
    "The next cell uses pandas module to extract the sample acording to the desired sample size (*__change for your particular sizing__*), and export to excel."
   ]
  },
  {
   "cell_type": "code",
   "execution_count": 86,
   "metadata": {},
   "outputs": [
    {
     "name": "stderr",
     "output_type": "stream",
     "text": [
      "/var/folders/86/v681v5wn503_g_j110hv5slm0000gn/T/ipykernel_2569/3963063119.py:7: FutureWarning: The behavior of DataFrame concatenation with empty or all-NA entries is deprecated. In a future version, this will no longer exclude empty or all-NA columns when determining the result dtypes. To retain the old behavior, exclude the relevant entries before the concat operation.\n",
      "  final_sample_df = pd.concat([final_sample_df,sample])\n"
     ]
    }
   ],
   "source": [
    "keys = urban_df.keys()\n",
    "final_sample_df = pd.DataFrame(columns=keys)\n",
    "for stratum in range(1,7):\n",
    "    stratified_df = urban_df[urban_df['Estrato'] == stratum]\n",
    "    sample_size = urban_sample_size[stratum-1]\n",
    "    sample = stratified_df.sample(n=sample_size)\n",
    "    final_sample_df = pd.concat([final_sample_df,sample])\n",
    "# final_sample_df.to_excel(r'Muestra urbana Carmen de Viboral.xlsx',index=False)\n"
   ]
  },
  {
   "cell_type": "code",
   "execution_count": 103,
   "metadata": {},
   "outputs": [],
   "source": [
    "df = pd.read_excel(r'Muestra urbana Carmen de Viboral.xlsx')"
   ]
  },
  {
   "cell_type": "markdown",
   "metadata": {},
   "source": [
    "## Non Residential Sample\n",
    "In the next cell, the dataframe is filtered to choose only the values which correspond to the uses *Industrial, Comercial* y *Oficial*."
   ]
  },
  {
   "cell_type": "code",
   "execution_count": 139,
   "metadata": {},
   "outputs": [],
   "source": [
    "non_residential_sample_size = 140\n",
    "\n",
    "# Conditions to filter the dataframe\n",
    "a = df['Uso'] == 'Industrial'\n",
    "b = df['Uso'] == 'Comercial'\n",
    "c = df['Uso'] == 'Oficial'\n",
    "\n",
    "nr_df = df[a|b|c]\n",
    "nr_df\n",
    "\n",
    "nr_sample = nr_df.sample(n=non_residential_sample_size,replace=False)\n",
    "# nr_sample.to_excel(r'Muestra no residencial Carmen.xlsx',index=False)"
   ]
  },
  {
   "cell_type": "markdown",
   "metadata": {},
   "source": [
    "# Fixing spatially redundant data (Non Residential Sample)\n",
    "Removing data which corresponds to the exactly same coordinates, and the ones that presented a bad Urban, Rural clasification"
   ]
  },
  {
   "cell_type": "code",
   "execution_count": 143,
   "metadata": {},
   "outputs": [],
   "source": [
    "'''Filtering the data that corresponds to the codes required to be changed'''\n",
    "\n",
    "nr_sample_df = pd.read_excel(r'Muestra no residencial Carmen.xlsx')\n",
    "codes_to_replace = pd.read_excel(r\"nr_codes_to_change.xlsx\")\n",
    "data = nr_sample_df['codeid']\n",
    "ref = codes_to_replace['CODES'].values\n",
    "# condition = [value in ref for value in data]\n",
    "# nr_sample_df[condition]"
   ]
  },
  {
   "cell_type": "markdown",
   "metadata": {},
   "source": [
    "### Filtering the raw dataframe for non residential, urban individuals and cleaning it by removing alues with the same coordinates"
   ]
  },
  {
   "cell_type": "code",
   "execution_count": 144,
   "metadata": {},
   "outputs": [
    {
     "name": "stderr",
     "output_type": "stream",
     "text": [
      "/var/folders/86/v681v5wn503_g_j110hv5slm0000gn/T/ipykernel_2725/640396358.py:10: SettingWithCopyWarning: \n",
      "A value is trying to be set on a copy of a slice from a DataFrame.\n",
      "Try using .loc[row_indexer,col_indexer] = value instead\n",
      "\n",
      "See the caveats in the documentation: https://pandas.pydata.org/pandas-docs/stable/user_guide/indexing.html#returning-a-view-versus-a-copy\n",
      "  nr_df['Coordenada X'] = approx_cords(nr_df, 'Coordenada X', approx)\n",
      "/var/folders/86/v681v5wn503_g_j110hv5slm0000gn/T/ipykernel_2725/640396358.py:11: SettingWithCopyWarning: \n",
      "A value is trying to be set on a copy of a slice from a DataFrame.\n",
      "Try using .loc[row_indexer,col_indexer] = value instead\n",
      "\n",
      "See the caveats in the documentation: https://pandas.pydata.org/pandas-docs/stable/user_guide/indexing.html#returning-a-view-versus-a-copy\n",
      "  nr_df['Coordenada Y'] = approx_cords(nr_df, 'Coordenada Y', approx)\n"
     ]
    }
   ],
   "source": [
    "approx = 8\n",
    "# Conditions to filter the dataframe\n",
    "a = df['Uso'] == 'Industrial'\n",
    "b = df['Uso'] == 'Comercial'\n",
    "c = df['Uso'] == 'Oficial'\n",
    "d = df['Zona'] == 'Urbana'\n",
    "e = df['Tipo Direccion'] == 'Urbana'\n",
    "\n",
    "nr_df = df[(a|b|c) & d & e]\n",
    "nr_df['Coordenada X'] = approx_cords(nr_df, 'Coordenada X', approx)\n",
    "nr_df['Coordenada Y'] = approx_cords(nr_df, 'Coordenada Y', approx)\n",
    "nr_df = nr_df.drop_duplicates(subset=['Coordenada X','Coordenada Y'])\n",
    "\n",
    "\n",
    "nr_sample_df['Coordenada X'] = approx_cords(nr_sample_df, 'Coordenada X', approx)\n",
    "nr_sample_df['Coordenada Y'] = approx_cords(nr_sample_df, 'Coordenada Y', approx)\n",
    "\n",
    "# nr_sample_df = nr_sample_df.drop_duplicates(subset=['Coordenada X','Coordenada Y'])\n",
    "\n"
   ]
  },
  {
   "cell_type": "markdown",
   "metadata": {},
   "source": [
    "### Filtering the data that is not currently present in the sample (via unique coordinates)"
   ]
  },
  {
   "cell_type": "code",
   "execution_count": 172,
   "metadata": {},
   "outputs": [],
   "source": [
    "condiX = check_vals_in_arr(nr_df['Coordenada X'],nr_sample_df['Coordenada X'].values)\n",
    "condiY = check_vals_in_arr(nr_df['Coordenada Y'],nr_sample_df['Coordenada Y'].values)\n",
    "condiDir = check_vals_in_arr(nr_df['Unnamed: 11'],nr_sample_df['Unnamed: 11'].values)\n",
    "condi = ~np.array(condiX or condiY or condiDir)\n",
    "nr_df = nr_df[condi]"
   ]
  },
  {
   "cell_type": "markdown",
   "metadata": {},
   "source": [
    "### Selection of a subsample to replace the redundant data"
   ]
  },
  {
   "cell_type": "code",
   "execution_count": 173,
   "metadata": {},
   "outputs": [],
   "source": [
    "new_sample = nr_df.sample(n=1, replace=False)\n",
    "new_sample['Coordenada X'] = [float(value) for value in new_sample['Coordenada X']]\n",
    "new_sample['Coordenada Y'] = [float(value) for value in new_sample['Coordenada Y']]\n",
    "# new_sample.to_excel(r'datos_nr_extra.xlsx',index=False)\n"
   ]
  },
  {
   "cell_type": "markdown",
   "metadata": {},
   "source": [
    "# _Fixing spatially redundant data (Urban Residential Sample)_\n",
    "Removing data which corresponds to the exactly same coordinates, and the ones that presented a bad Urban, Rural clasification"
   ]
  },
  {
   "cell_type": "code",
   "execution_count": 206,
   "metadata": {},
   "outputs": [],
   "source": [
    "'''Filtering the data that corresponds to the codes required to be changed'''\n",
    "\n",
    "urban_sample_df = pd.read_excel(r'Muestra urbana Carmen de Viboral.xlsx')\n",
    "# urban_sample_df = urban_df.head(10)\n",
    "codes_to_replace = ['UR1001','UR2001']\n",
    "data = urban_sample_df['codeid']\n",
    "# ref = codes_to_replace['CODES'].values\n",
    "condition = notArray(check_vals_in_arr(data,codes_to_replace))\n",
    "# nr_sample_df[condition]"
   ]
  },
  {
   "cell_type": "markdown",
   "metadata": {},
   "source": [
    "## Descomentar linea 8 (urban_df = df[a & b & c])"
   ]
  },
  {
   "cell_type": "code",
   "execution_count": 181,
   "metadata": {},
   "outputs": [
    {
     "name": "stderr",
     "output_type": "stream",
     "text": [
      "/var/folders/86/v681v5wn503_g_j110hv5slm0000gn/T/ipykernel_2725/4085557606.py:9: SettingWithCopyWarning: \n",
      "A value is trying to be set on a copy of a slice from a DataFrame.\n",
      "Try using .loc[row_indexer,col_indexer] = value instead\n",
      "\n",
      "See the caveats in the documentation: https://pandas.pydata.org/pandas-docs/stable/user_guide/indexing.html#returning-a-view-versus-a-copy\n",
      "  urban_df['Coordenada X'] = approx_cords(urban_df, 'Coordenada X', approx)\n",
      "/var/folders/86/v681v5wn503_g_j110hv5slm0000gn/T/ipykernel_2725/4085557606.py:10: SettingWithCopyWarning: \n",
      "A value is trying to be set on a copy of a slice from a DataFrame.\n",
      "Try using .loc[row_indexer,col_indexer] = value instead\n",
      "\n",
      "See the caveats in the documentation: https://pandas.pydata.org/pandas-docs/stable/user_guide/indexing.html#returning-a-view-versus-a-copy\n",
      "  urban_df['Coordenada Y'] = approx_cords(urban_df, 'Coordenada Y', approx)\n"
     ]
    }
   ],
   "source": [
    "approx = 8\n",
    "# Conditions to filter the dataframe\n",
    "a = df['Uso'] == 'Residencial'\n",
    "b = df['Zona'] == 'Urbana'\n",
    "c = df['Tipo Direccion'] == 'Urbana'\n",
    "\n",
    "# Filtering the full urban dataset and converting coordinates to str\n",
    "urban_df = df[a & b & c]\n",
    "urban_df['Coordenada X'] = approx_cords(urban_df, 'Coordenada X', approx)\n",
    "urban_df['Coordenada Y'] = approx_cords(urban_df, 'Coordenada Y', approx)\n",
    "urban_df = urban_df.drop_duplicates(subset=['Coordenada X', 'Coordenada Y'])\n",
    "\n",
    "# Converting coordinates to str\n",
    "urban_sample_df['Coordenada X'] = approx_cords(urban_sample_df, 'Coordenada X', approx)\n",
    "urban_sample_df['Coordenada Y'] = approx_cords(urban_sample_df, 'Coordenada Y', approx)\n",
    "output_df = removeSampleValues(urban_df,urban_sample_df)"
   ]
  },
  {
   "cell_type": "code",
   "execution_count": 204,
   "metadata": {},
   "outputs": [],
   "source": [
    "keys = output_df.keys()\n",
    "subsample = pd.DataFrame(columns=keys)\n",
    "reselected_sizes = [12,28,1,1]\n",
    "for stratum in range(2,6):\n",
    "    stratified_df = output_df[output_df['Estrato'] == stratum]\n",
    "    sample_size = reselected_sizes[stratum-2]\n",
    "    sample = stratified_df.sample(n=sample_size)\n",
    "    subsample = pd.concat([subsample,sample])"
   ]
  },
  {
   "cell_type": "code",
   "execution_count": 205,
   "metadata": {},
   "outputs": [],
   "source": [
    "subsample.to_excel(r'rechosen_urb.xlsx',index=False)"
   ]
  },
  {
   "cell_type": "code",
   "execution_count": 201,
   "metadata": {},
   "outputs": [],
   "source": [
    "test_sample = urban_sample_df.drop_duplicates(subset=['Coordenada X', 'Coordenada Y'])\n",
    "codes_to_replace = ['UR2003','UR2004','UR2014','UR2019','UR2023','UR2030','UR3005','UR3025','UR3032','UR3046','UR3075','UR5001','UR5002']\n",
    "duplicates = notArray(check_vals_in_arr(urban_sample_df['codeid'],test_sample['codeid'].values))\n",
    "reviewed = np.array(check_vals_in_arr(urban_sample_df['codeid'],codes_to_replace))\n",
    "duplicates = urban_sample_df[reviewed|duplicates]"
   ]
  },
  {
   "cell_type": "code",
   "execution_count": 207,
   "metadata": {},
   "outputs": [],
   "source": [
    "# Converting coordinates to str\n",
    "urban_sample_df['Coordenada X'] = approx_cords(urban_sample_df, 'Coordenada X', approx)\n",
    "urban_sample_df['Coordenada Y'] = approx_cords(urban_sample_df, 'Coordenada Y', approx)"
   ]
  },
  {
   "cell_type": "code",
   "execution_count": 208,
   "metadata": {},
   "outputs": [],
   "source": [
    "urban_s_df_no_dups = urban_sample_df.drop_duplicates(subset=['Coordenada X', 'Coordenada Y'])"
   ]
  },
  {
   "cell_type": "markdown",
   "metadata": {},
   "source": [
    "# Subsample for densities"
   ]
  },
  {
   "cell_type": "code",
   "execution_count": 25,
   "metadata": {},
   "outputs": [],
   "source": [
    "codes_df = pd.read_excel('total_codes_sampling.xlsx')\n",
    "rural_density_sample = pd.DataFrame(data = codes_df.values[110:138]).sample(12)\n",
    "rural_density_sample.to_excel('density_rural_nr.xlsx',index=False)"
   ]
  },
  {
   "cell_type": "code",
   "execution_count": 17,
   "metadata": {},
   "outputs": [],
   "source": [
    "urban_vals = codes_df.drop([i for i in range(110,139)])\n",
    "urban_sample = urban_vals.sample(136)"
   ]
  },
  {
   "cell_type": "markdown",
   "metadata": {},
   "source": [
    "# __Rural Sample__"
   ]
  },
  {
   "cell_type": "code",
   "execution_count": 2,
   "metadata": {},
   "outputs": [],
   "source": [
    "rural_df = pd.read_excel(r'rural_raw.xlsx')\n",
    "rural_df = rural_df[rural_df['Uso'] == 'Residencial']\n",
    "rural_df = rural_df.drop(columns=['FID'])\n",
    "rural_df = rural_df.rename(columns={'Coordenada':'Coordenada X','Coordena_1':'Coordenada Y'})"
   ]
  },
  {
   "cell_type": "markdown",
   "metadata": {},
   "source": [
    "### Filtering the data to ensure that no spatially redundant data is present in the dataset"
   ]
  },
  {
   "cell_type": "code",
   "execution_count": 3,
   "metadata": {},
   "outputs": [],
   "source": [
    "approx = 8\n",
    "rural_df['Coordenada X'] = approx_cords(rural_df, 'Coordenada X', approx)\n",
    "rural_df['Coordenada Y'] = approx_cords(rural_df, 'Coordenada Y', approx)\n",
    "rural_df = rural_df.drop_duplicates(subset=['Coordenada X', 'Coordenada Y'])"
   ]
  },
  {
   "cell_type": "markdown",
   "metadata": {},
   "source": [
    "### Choosing the sample using the filtered data"
   ]
  },
  {
   "cell_type": "code",
   "execution_count": 6,
   "metadata": {},
   "outputs": [],
   "source": [
    "keys = ['codeid'] + [i for i in rural_df.keys()] \n",
    "rural_sample = pd.DataFrame(columns=keys)\n",
    "sizes = [10,73,26,6,2,2]\n",
    "for stratum in range(1,7):\n",
    "    codeid = []\n",
    "    stratified_df = rural_df[rural_df['Estrato'] == stratum]\n",
    "    sample_size = sizes[stratum-1]\n",
    "    sample = stratified_df.sample(n=sample_size)\n",
    "    for cod in range(sample_size):\n",
    "        codeid.append('RR'+str(stratum*1000 + cod + 1))\n",
    "    sample.insert(1,'codeid',codeid,False)\n",
    "    rural_sample = pd.concat([rural_sample,sample])\n",
    "rural_sample['Coordenada X'] =  [float(i) for i in rural_sample['Coordenada X'].values]\n",
    "rural_sample['Coordenada Y'] =  [float(i) for i in rural_sample['Coordenada Y'].values]"
   ]
  },
  {
   "cell_type": "code",
   "execution_count": 7,
   "metadata": {},
   "outputs": [],
   "source": [
    "# rural_sample.to_excel(r'rural_sample.xlsx',index=False)"
   ]
  }
 ],
 "metadata": {
  "kernelspec": {
   "display_name": "mac",
   "language": "python",
   "name": "python3"
  },
  "language_info": {
   "codemirror_mode": {
    "name": "ipython",
    "version": 3
   },
   "file_extension": ".py",
   "mimetype": "text/x-python",
   "name": "python",
   "nbconvert_exporter": "python",
   "pygments_lexer": "ipython3",
   "version": "3.12.4"
  }
 },
 "nbformat": 4,
 "nbformat_minor": 2
}
